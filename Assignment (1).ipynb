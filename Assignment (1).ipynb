{
  "nbformat": 4,
  "nbformat_minor": 0,
  "metadata": {
    "colab": {
      "provenance": []
    },
    "kernelspec": {
      "name": "python3",
      "display_name": "Python 3"
    },
    "language_info": {
      "name": "python"
    }
  },
  "cells": [
    {
      "cell_type": "code",
      "execution_count": 3,
      "metadata": {
        "id": "ppCZMTfT3f1x"
      },
      "outputs": [],
      "source": [
        "import csv\n",
        "from faker import Faker\n",
        "import random\n",
        "from datetime import datetime, timedelta\n",
        "\n"
      ]
    },
    {
      "cell_type": "code",
      "source": [
        "pip install Faker"
      ],
      "metadata": {
        "colab": {
          "base_uri": "https://localhost:8080/"
        },
        "id": "i_QI3CIc8tnV",
        "outputId": "887d2750-bd27-4f4e-d049-de0f678bc796"
      },
      "execution_count": 2,
      "outputs": [
        {
          "output_type": "stream",
          "name": "stdout",
          "text": [
            "Collecting Faker\n",
            "  Downloading Faker-33.0.0-py3-none-any.whl.metadata (15 kB)\n",
            "Requirement already satisfied: python-dateutil>=2.4 in /usr/local/lib/python3.10/dist-packages (from Faker) (2.8.2)\n",
            "Requirement already satisfied: typing-extensions in /usr/local/lib/python3.10/dist-packages (from Faker) (4.12.2)\n",
            "Requirement already satisfied: six>=1.5 in /usr/local/lib/python3.10/dist-packages (from python-dateutil>=2.4->Faker) (1.16.0)\n",
            "Downloading Faker-33.0.0-py3-none-any.whl (1.9 MB)\n",
            "\u001b[?25l   \u001b[90m━━━━━━━━━━━━━━━━━━━━━━━━━━━━━━━━━━━━━━━━\u001b[0m \u001b[32m0.0/1.9 MB\u001b[0m \u001b[31m?\u001b[0m eta \u001b[36m-:--:--\u001b[0m\r\u001b[2K   \u001b[91m━━━\u001b[0m\u001b[90m╺\u001b[0m\u001b[90m━━━━━━━━━━━━━━━━━━━━━━━━━━━━━━━━━━━━\u001b[0m \u001b[32m0.1/1.9 MB\u001b[0m \u001b[31m3.8 MB/s\u001b[0m eta \u001b[36m0:00:01\u001b[0m\r\u001b[2K   \u001b[91m━━━━━━━━━━━━━━\u001b[0m\u001b[91m╸\u001b[0m\u001b[90m━━━━━━━━━━━━━━━━━━━━━━━━━\u001b[0m \u001b[32m0.7/1.9 MB\u001b[0m \u001b[31m9.8 MB/s\u001b[0m eta \u001b[36m0:00:01\u001b[0m\r\u001b[2K   \u001b[91m━━━━━━━━━━━━━━━━━━━━━━━━━━━━━━━━━━━━━━━\u001b[0m\u001b[91m╸\u001b[0m \u001b[32m1.9/1.9 MB\u001b[0m \u001b[31m19.2 MB/s\u001b[0m eta \u001b[36m0:00:01\u001b[0m\r\u001b[2K   \u001b[90m━━━━━━━━━━━━━━━━━━━━━━━━━━━━━━━━━━━━━━━━\u001b[0m \u001b[32m1.9/1.9 MB\u001b[0m \u001b[31m16.4 MB/s\u001b[0m eta \u001b[36m0:00:00\u001b[0m\n",
            "\u001b[?25hInstalling collected packages: Faker\n",
            "Successfully installed Faker-33.0.0\n"
          ]
        }
      ]
    },
    {
      "cell_type": "code",
      "source": [],
      "metadata": {
        "id": "WnGESYmp84Mx"
      },
      "execution_count": null,
      "outputs": []
    },
    {
      "cell_type": "code",
      "source": [
        "fake = Faker()\n",
        "\n",
        "# Function to generate random dates\n",
        "def random_date(start, end):\n",
        "    return start + timedelta(days=random.randint(0, (end - start).days))\n",
        "\n",
        "# File names for the CSVs\n",
        "files = [\"Guests.csv\", \"Rooms.csv\", \"Bookings.csv\", \"Payments.csv\", \"Booking_Services.csv\", \"Services.csv\"]"
      ],
      "metadata": {
        "id": "H4qw4dya5xZK"
      },
      "execution_count": 6,
      "outputs": []
    },
    {
      "cell_type": "code",
      "source": [
        "with open(\"Guests.csv\", \"w\", newline=\"\") as file:\n",
        "    writer = csv.writer(file)\n",
        "    writer.writerow([\"guest_id\", \"name\", \"email\", \"phone_number\", \"registration_date\", \"loyalty_level\", \"Address\"])\n",
        "    loyalty_levels = [\"Bronze\", \"Silver\", \"Gold\", \"Platinum\"]\n",
        "\n",
        "    for i in range(1, 459):  # 459 guests\n",
        "        # Introduce missing data randomly\n",
        "        email = fake.email() if random.random() > 0.1 else None  # 10% chance of missing email\n",
        "        phone_number = fake.phone_number() if random.random() > 0.1 else None  # 10% chance of missing phone number\n",
        "        address = fake.address() if random.random() > 0.15 else None  # 15% chance of missing address\n",
        "\n",
        "        writer.writerow([\n",
        "            i,\n",
        "            fake.name(),\n",
        "            email,\n",
        "            phone_number,\n",
        "            fake.date_between(start_date=\"-5y\", end_date=\"today\"),\n",
        "            random.choice(loyalty_levels),\n",
        "            address\n",
        "        ])\n",
        "    print(\"Guests.csv.\")"
      ],
      "metadata": {
        "colab": {
          "base_uri": "https://localhost:8080/"
        },
        "id": "Uz3f-hu08V3m",
        "outputId": "2b4afc8d-f8bc-4bae-b17b-773443cc0031"
      },
      "execution_count": 7,
      "outputs": [
        {
          "output_type": "stream",
          "name": "stdout",
          "text": [
            "Guests.csv.\n"
          ]
        }
      ]
    },
    {
      "cell_type": "code",
      "source": [
        "  with open(\"Rooms.csv\", \"w\", newline=\"\") as file:\n",
        "      writer = csv.writer(file)\n",
        "      writer.writerow([\"room_id\", \"room_type\", \"bed_count\", \"daily_rate (GBP)\"])\n",
        "      room_types = [\"Single\", \"Double\", \"Suite\"]\n",
        "\n",
        "      for i in range(1, 30):  # 30 rooms\n",
        "          writer.writerow([\n",
        "              i,\n",
        "              random.choice(room_types),\n",
        "              random.randint(1, 3),\n",
        "              random.randint(10, 100) * 5  # Ensures daily_rate is a multiple of 5\n",
        "          ])\n",
        "\n",
        "  print(\"Rooms.csv.\")"
      ],
      "metadata": {
        "colab": {
          "base_uri": "https://localhost:8080/"
        },
        "id": "3iQmr1OVi-mA",
        "outputId": "eaaf3109-428e-496c-df19-7c5687ed9184"
      },
      "execution_count": 27,
      "outputs": [
        {
          "output_type": "stream",
          "name": "stdout",
          "text": [
            "Rooms.csv.\n"
          ]
        }
      ]
    },
    {
      "cell_type": "code",
      "source": [
        "\n",
        "\n",
        "with open(\"Bookings.csv\", \"w\", newline=\"\") as file:\n",
        "    writer = csv.writer(file)\n",
        "    writer.writerow([\"booking_id\", \"guest_id\", \"room_id\", \"check_in_date\", \"check_out_date\", \"total_price\"])\n",
        "\n",
        "\n",
        "    current_date = datetime(2023, 1, 1)\n",
        "\n",
        "    for i in range(1, 1259):  # 1259 bookings\n",
        "\n",
        "        check_in = current_date\n",
        "        days_to_next_booking = random.randint(0, 3)\n",
        "        current_date += timedelta(days=days_to_next_booking)\n",
        "\n",
        "        # Introduce missing `check_out_date` realistically\n",
        "        if random.random() < 0.1:  # 10% chance of missing check_out_date\n",
        "            check_out = None\n",
        "        else:\n",
        "            check_out = check_in + timedelta(days=random.randint(1, 15))\n",
        "\n",
        "        guest_id = random.randint(1, 459)  # Guest IDs range from 1 to 459\n",
        "        room_id = random.randint(1, 30)   # Room IDs range from 1 to 30\n",
        "\n",
        "        # Calculate total_price only if check_out is present\n",
        "        if check_out:\n",
        "            daily_rate = random.randint(10, 100) * 5  # Ensure rate is in multiples of 5\n",
        "            total_price = round((check_out - check_in).days * daily_rate, 2)\n",
        "        else:\n",
        "            total_price = None  # Missing total_price if check_out is missing\n",
        "\n",
        "        writer.writerow([\n",
        "            i,\n",
        "            guest_id,\n",
        "            room_id,\n",
        "            check_in.date(),\n",
        "            check_out.date() if check_out else None,\n",
        "            total_price\n",
        "        ])\n",
        "\n",
        "print(\"Bookings.csv.\")\n"
      ],
      "metadata": {
        "colab": {
          "base_uri": "https://localhost:8080/"
        },
        "id": "tLtD6HImpIon",
        "outputId": "e2c557d7-bee9-40f2-e404-f9d1d3311f77"
      },
      "execution_count": 28,
      "outputs": [
        {
          "output_type": "stream",
          "name": "stdout",
          "text": [
            "Bookings.csv.\n"
          ]
        }
      ]
    },
    {
      "cell_type": "code",
      "source": [
        "\n",
        "with open(\"Payments.csv\", \"w\", newline=\"\") as file:\n",
        "    writer = csv.writer(file)\n",
        "    writer.writerow([\"payment_id\", \"booking_id\", \"payment_date\", \"Discount\", \"payment_amount\", \"payment_method\"])\n",
        "    payment_methods = [\"Credit Card\", \"Debit Card\", \"Cash\", \"Online\"]\n",
        "    discount_options = [0.05, 0.08, 0.10, 0.20, 0.25]  # Allowed discount percentages\n",
        "\n",
        "    records = []\n",
        "\n",
        "    for i in range(1, 759):  # 759 payments\n",
        "        booking_id = random.randint(1, 1000)  # Booking ID should match the range in Bookings.csv\n",
        "\n",
        "        # Determine if payment amount is missing (2% of records)\n",
        "        if random.random() < 0.02:\n",
        "            # If payment_amount is missing, all related fields are also missing\n",
        "            payment_date = None\n",
        "            discount = None\n",
        "            payment_amount = None\n",
        "            payment_method = None\n",
        "        else:\n",
        "            # Normal case\n",
        "            payment_amount = round(random.uniform(50, 500), 2)\n",
        "\n",
        "            # Introduce missing payment_date or payment_method (15% of records each)\n",
        "            if random.random() < 0.15:\n",
        "                payment_date = None\n",
        "            else:\n",
        "                payment_date = fake.date_between(start_date=\"-3y\", end_date=\"today\")\n",
        "\n",
        "            if random.random() < 0.15:\n",
        "                payment_method = None\n",
        "            else:\n",
        "                payment_method = random.choice(payment_methods)\n",
        "\n",
        "            # Determine if the customer gets a discount (15% of records)\n",
        "            if random.random() < 0.15:\n",
        "                discount = round(random.choice(discount_options) * payment_amount, 2)\n",
        "            else:\n",
        "                discount = 0.00\n",
        "\n",
        "        records.append([\n",
        "            i,\n",
        "            booking_id,\n",
        "            payment_date,\n",
        "            discount,\n",
        "            payment_amount - discount if payment_amount else None,  # Net payment after discount\n",
        "            payment_method\n",
        "        ])\n",
        "\n",
        "\n",
        "\n",
        "    # Write all records to CSV\n",
        "    for record in records:\n",
        "        writer.writerow(record)\n",
        "\n",
        "print(\"Payments.csv.\")\n"
      ],
      "metadata": {
        "colab": {
          "base_uri": "https://localhost:8080/"
        },
        "id": "G0eo7PRWI5Yx",
        "outputId": "a70e3471-41fb-42c7-95bc-175192e32b6b"
      },
      "execution_count": 8,
      "outputs": [
        {
          "output_type": "stream",
          "name": "stdout",
          "text": [
            "Payments.csv.\n"
          ]
        }
      ]
    },
    {
      "cell_type": "code",
      "source": [
        "\n",
        "\n",
        "# Random date function to generate dates between a given range\n",
        "def random_date(start_date, end_date):\n",
        "    return fake.date_between(start_date=start_date, end_date=end_date)\n",
        "\n",
        "# Booking_Services Table\n",
        "with open(\"Booking_Services.csv\", \"w\", newline=\"\") as file:\n",
        "    writer = csv.writer(file)\n",
        "    writer.writerow([\"booking_id\", \"service_id\", \"service_date\"])\n",
        "\n",
        "    for i in range(1, 201):  # 200 booking services\n",
        "        booking_id = random.randint(1, 1000)  # booking_id range from 1 to 1000\n",
        "        service_id = random.randint(1, 20)  # service_id range from 1 to 20\n",
        "\n",
        "        # Introduce missing service_date for 10% of the records (realistic missing data)\n",
        "        if random.random() < 0.1:  # 10% chance of missing service_date\n",
        "            service_date = None\n",
        "        else:\n",
        "            service_date = random_date(datetime(2020, 1, 1), datetime(2024, 11, 1))\n",
        "\n",
        "        writer.writerow([booking_id, service_id, service_date])\n",
        "\n",
        "print(\"Booking_Services.csv.\")\n"
      ],
      "metadata": {
        "colab": {
          "base_uri": "https://localhost:8080/"
        },
        "id": "bwCyf2EfMMkz",
        "outputId": "0c85a772-2cfd-4b9c-c2be-7e8cdb7ccc22"
      },
      "execution_count": 30,
      "outputs": [
        {
          "output_type": "stream",
          "name": "stdout",
          "text": [
            "Booking_Services.csv.\n"
          ]
        }
      ]
    },
    {
      "cell_type": "code",
      "source": [
        "\n",
        "# Services Table\n",
        "with open(\"Services.csv\", \"w\", newline=\"\") as file:\n",
        "    writer = csv.writer(file)\n",
        "    writer.writerow([\"service_id\", \"service_name\", \"service_fee\"])\n",
        "\n",
        "    service_names = [\"Spa\", \"Gym\", \"Breakfast\", \"Dinner\", \"Airport Shuttle\", \"Massage\", \"Yoga\", \"Sauna\", \"Pool\", \"Housekeeping\",\n",
        "                     \"Laundry\", \"Wi-Fi\", \"Parking\", \"Bar\", \"Restaurant\", \"Room Service\", \"Mini Bar\", \"Pet Care\", \"Conference Room\", \"Entertainment\"]\n",
        "\n",
        "    for i in range(1, 21):  # 20 services\n",
        "        writer.writerow([\n",
        "            i,\n",
        "            random.choice(service_names),\n",
        "            round(random.uniform(10, 100), 2)  # Random fee between 10 and 100\n",
        "        ])\n",
        "print(\"Services.csv.\")"
      ],
      "metadata": {
        "colab": {
          "base_uri": "https://localhost:8080/"
        },
        "id": "WUdnvFKAM_aR",
        "outputId": "5007aab6-8392-4634-a6d3-cf4274e57b22"
      },
      "execution_count": 31,
      "outputs": [
        {
          "output_type": "stream",
          "name": "stdout",
          "text": [
            "Services.csv.\n"
          ]
        }
      ]
    }
  ]
}